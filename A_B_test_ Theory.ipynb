{
 "cells": [
  {
   "cell_type": "code",
   "execution_count": 52,
   "id": "12506d23",
   "metadata": {},
   "outputs": [],
   "source": [
    "import pandas as pd\n",
    "import numpy as np\n",
    "from scipy import stats\n",
    "state = np.random.RandomState(12345)"
   ]
  },
  {
   "cell_type": "markdown",
   "id": "7f03b88e",
   "metadata": {},
   "source": [
    "# ЗАДАЧА:\n",
    "Мы немного поменяли интерфейс интернет-магазина для части пользователей. Нужно проверить, изменился ли средний чек покупки.  (Предполагается, что пользователей группы А и группы B выбирали случайным образом.)"
   ]
  },
  {
   "cell_type": "code",
   "execution_count": 53,
   "id": "5cd2bcf2",
   "metadata": {},
   "outputs": [],
   "source": [
    "alpha = 0.05 # зададим уровень значимости (единый для всех методов)"
   ]
  },
  {
   "cell_type": "markdown",
   "id": "235599ba",
   "metadata": {},
   "source": [
    "Сразу следует отметить, что такое P-value.\n",
    "- Нулевая гипотеза предполагает, что средние двух выборок одинаковые (то, что метод mean() нам говорит об обратном нам не важно, согласно ЦПТ считается, что средние подвыборок распределены нормально вокруг истинного среднего, т.е. это просто одно из отклонений)\n",
    "- P-value показывает вероятность получить такое или более экстремальное значение, т.е. разницу средних из двух случайных выборок."
   ]
  },
  {
   "cell_type": "code",
   "execution_count": 54,
   "id": "201ec31c",
   "metadata": {},
   "outputs": [],
   "source": [
    "# данные контрольной группы A\n",
    "samples_A = pd.Series([\n",
    "     98.24,  97.77,  95.56,  99.49, 101.4 , 105.35,  95.83,  93.02,\n",
    "    101.37,  95.66,  98.34, 100.75, 104.93,  97.  ,  95.46, 100.03,\n",
    "    102.34,  98.23,  97.05,  97.76,  98.63,  98.82,  99.51,  99.31,\n",
    "     98.58,  96.84,  93.71, 101.38, 100.6 , 103.68, 104.78, 101.51,\n",
    "    100.89, 102.27,  99.87,  94.83,  95.95, 105.2 ,  97.  ,  95.54,\n",
    "     98.38,  99.81, 103.34, 101.14, 102.19,  94.77,  94.74,  99.56,\n",
    "    102.  , 100.95, 102.19, 103.75, 103.65,  95.07, 103.53, 100.42,\n",
    "     98.09,  94.86, 101.47, 103.07, 100.15, 100.32, 100.89, 101.23,\n",
    "     95.95, 103.69, 100.09,  96.28,  96.11,  97.63,  99.45, 100.81,\n",
    "    102.18,  94.92,  98.89, 101.48, 101.29,  94.43, 101.55,  95.85,\n",
    "    100.16,  97.49, 105.17, 104.83, 101.9 , 100.56, 104.91,  94.17,\n",
    "    103.48, 100.55, 102.66, 100.62,  96.93, 102.67, 101.27,  98.56,\n",
    "    102.41, 100.69,  99.67, 100.99])\n",
    "# данные экспериментальной группы B\n",
    "samples_B = pd.Series([\n",
    "    101.67, 102.27,  97.01, 103.46, 100.76, 101.19,  99.11,  97.59,\n",
    "    101.01, 101.45,  94.8 , 101.55,  96.38,  99.03, 102.83,  97.32,\n",
    "     98.25,  97.17, 101.1 , 102.57, 104.59, 105.63,  98.93, 103.87,\n",
    "     98.48, 101.14, 102.24,  98.55, 105.61, 100.06,  99.  , 102.53,\n",
    "    101.56, 102.68, 103.26,  96.62,  99.48, 107.6 ,  99.87, 103.58,\n",
    "    105.05, 105.69,  94.52,  99.51,  99.81,  99.44,  97.35, 102.97,\n",
    "     99.77,  99.59, 102.12, 104.29,  98.31,  98.83,  96.83,  99.2 ,\n",
    "     97.88, 102.34, 102.04,  99.88,  99.69, 103.43, 100.71,  92.71,\n",
    "     99.99,  99.39,  99.19,  99.29, 100.34, 101.08, 100.29,  93.83,\n",
    "    103.63,  98.88, 105.36, 101.82, 100.86, 100.75,  99.4 ,  95.37,\n",
    "    107.96,  97.69, 102.17,  99.41,  98.97,  97.96,  98.31,  97.09,\n",
    "    103.92, 100.98, 102.76,  98.24,  97.  ,  98.99, 103.54,  99.72,\n",
    "    101.62, 100.62, 102.79, 104.19])"
   ]
  },
  {
   "cell_type": "markdown",
   "id": "99feb9f5",
   "metadata": {},
   "source": [
    "### С помощью пакета Scipy stats.ttest\n",
    "Самый легкий способ, которым и есть смысл пользоваться\n",
    "- Следует отметить, что здесь мы получаем двухстороннюю вероятность, т.е. экстремальные значения могут быть как отрицательные, так и положительные. \n",
    "- Если бы мы делали одностороннюю проверку, то полученное значение надо бы было разделить на два. При этом, и уровень alpha надо было бы уменьшить в два раза."
   ]
  },
  {
   "cell_type": "code",
   "execution_count": 55,
   "id": "9740cb46",
   "metadata": {},
   "outputs": [
    {
     "data": {
      "text/plain": [
       "0.06891039185573565"
      ]
     },
     "execution_count": 55,
     "metadata": {},
     "output_type": "execute_result"
    }
   ],
   "source": [
    "t, pvalue = stats.ttest_ind(samples_A, samples_B) #считаем, что дисперсии выборок одинаковые equal_var = True\n",
    "pvalue"
   ]
  },
  {
   "cell_type": "code",
   "execution_count": 56,
   "id": "02788d6a",
   "metadata": {},
   "outputs": [
    {
     "name": "stdout",
     "output_type": "stream",
     "text": [
      "Не получилось отвергнуть нулевую гипотезу: скорее всего, средний чек не увеличился\n"
     ]
    }
   ],
   "source": [
    "if pvalue > alpha:\n",
    "    print(\"Не получилось отвергнуть нулевую гипотезу: скорее всего, средний чек не увеличился\")\n",
    "else:\n",
    "    print(\"Отвергаем нулевую гипотезу: скорее всего, средний чек увеличился\")"
   ]
  },
  {
   "cell_type": "markdown",
   "id": "0b324e2c",
   "metadata": {},
   "source": [
    "Отметим, что с вероятностью 6.9% мы можем получить такую же или более существенною разницу средних делая подвыборки из Генеральной совокупности с данными характеристиками (t-критерий, дисперсия). "
   ]
  },
  {
   "cell_type": "markdown",
   "id": "4e89749a",
   "metadata": {},
   "source": [
    "### С помощью stats.t.cdf (кумулятивного распределения Стьюдента)"
   ]
  },
  {
   "cell_type": "markdown",
   "id": "c4b90c80",
   "metadata": {},
   "source": [
    "В классической статистике, рассчитав t-критерий Стюдента и количество степеней свободы, с помощью специальной таблицы, можно найти pvalue. В нашем случае, роль этой таблицы будет выполнять метод stats.t.cdf"
   ]
  },
  {
   "cell_type": "code",
   "execution_count": 61,
   "id": "dc7ce6e9",
   "metadata": {},
   "outputs": [
    {
     "data": {
      "text/plain": [
       "2.969996248679739"
      ]
     },
     "execution_count": 61,
     "metadata": {},
     "output_type": "execute_result"
    }
   ],
   "source": [
    "# считаем среднее стандартное отклонение по двум выборкам\n",
    "s = np.sqrt( (samples_A.var(ddof=1) + samples_B.var(ddof=1)) / 2 )\n",
    "s"
   ]
  },
  {
   "attachments": {
    "474ddf7ecb2cf5652280e7701f67f16b-2.png": {
     "image/png": "[encoded data removed]"
    }
   },
   "cell_type": "markdown",
   "id": "193d2186",
   "metadata": {},
   "source": [
    "![474ddf7ecb2cf5652280e7701f67f16b-2.png](attachment:474ddf7ecb2cf5652280e7701f67f16b-2.png)"
   ]
  },
  {
   "cell_type": "code",
   "execution_count": 63,
   "id": "da067eb6",
   "metadata": {},
   "outputs": [
    {
     "data": {
      "text/plain": [
       "-1.8289566175344534"
      ]
     },
     "execution_count": 63,
     "metadata": {},
     "output_type": "execute_result"
    }
   ],
   "source": [
    "#считаем t-критерий Стьюдента, где N - размер одной из выборок (в случае равных выборок)\n",
    "t = (samples_A.mean() - samples_B.mean()) / (s * np.sqrt(2.0/len(samples_A)))\n",
    "t"
   ]
  },
  {
   "cell_type": "code",
   "execution_count": 65,
   "id": "066c3a6a",
   "metadata": {},
   "outputs": [
    {
     "data": {
      "text/plain": [
       "198"
      ]
     },
     "execution_count": 65,
     "metadata": {},
     "output_type": "execute_result"
    }
   ],
   "source": [
    "# количество степеней свободы\n",
    "df = 2*(len(samples_A)) - 2\n",
    "df"
   ]
  },
  {
   "cell_type": "code",
   "execution_count": 67,
   "id": "55f967d1",
   "metadata": {},
   "outputs": [
    {
     "data": {
      "text/plain": [
       "0.06891039185573566"
      ]
     },
     "execution_count": 67,
     "metadata": {},
     "output_type": "execute_result"
    }
   ],
   "source": [
    "# находим p-значение:\n",
    "pvalueT = 2*(1 - stats.t.cdf(np.abs(t), df=df)) # фактически, мы считаем вероятность интервала справа, \n",
    "#потом умножаем его на 2.\n",
    "pvalueT"
   ]
  },
  {
   "cell_type": "code",
   "execution_count": 68,
   "id": "fb6fb788",
   "metadata": {},
   "outputs": [
    {
     "name": "stdout",
     "output_type": "stream",
     "text": [
      "Не получилось отвергнуть нулевую гипотезу: скорее всего, средний чек не увеличился\n"
     ]
    }
   ],
   "source": [
    "if pvalueT > alpha:\n",
    "    print(\"Не получилось отвергнуть нулевую гипотезу: скорее всего, средний чек не увеличился\")\n",
    "else:\n",
    "    print(\"Отвергаем нулевую гипотезу: скорее всего, средний чек увеличился\")"
   ]
  },
  {
   "cell_type": "markdown",
   "id": "a1855e3b",
   "metadata": {},
   "source": [
    "### Bootstrap\n",
    "Смысл метода в том, что мы считает разницу между средними двух выборок. Затем объединяем выборки в одну, перемешиваем значения, снова разбиваем на две выборки и считаем разницу средних (B-A). Если разница больше изначальной(смотрим по модулю), то отмечаем этот факт. В конце эксперимента делим количество таких превышений на число экспериментов - это и будет наша p-value"
   ]
  },
  {
   "cell_type": "code",
   "execution_count": 57,
   "id": "9a00b9d1",
   "metadata": {},
   "outputs": [
    {
     "data": {
      "text/plain": [
       "0.7682000000000357"
      ]
     },
     "execution_count": 57,
     "metadata": {},
     "output_type": "execute_result"
    }
   ],
   "source": [
    "# посчитаем фактическую разность средних значений в группах\n",
    "AB_difference = samples_B.mean() - samples_A.mean()\n",
    "AB_difference"
   ]
  },
  {
   "cell_type": "code",
   "execution_count": 58,
   "id": "9047c179",
   "metadata": {},
   "outputs": [],
   "source": [
    "# зададим число экспериментов\n",
    "bootstrap_samples = 10000\n",
    "#объединим выборки\n",
    "united_samples = pd.concat([samples_A, samples_B]) "
   ]
  },
  {
   "cell_type": "code",
   "execution_count": 59,
   "id": "bc02586f",
   "metadata": {},
   "outputs": [
    {
     "data": {
      "text/plain": [
       "0.0689"
      ]
     },
     "execution_count": 59,
     "metadata": {},
     "output_type": "execute_result"
    }
   ],
   "source": [
    "count = 0\n",
    "for i in range(bootstrap_samples):\n",
    "    subsample = united_samples.sample(n=len(united_samples), replace=True, random_state=state)\n",
    "    subsample_A = subsample[:len(samples_A)]\n",
    "    subsample_B = subsample[len(samples_A):]\n",
    "    # разница средних\n",
    "    bootstrap_difference = subsample_B.mean() - subsample_A.mean()\n",
    "    if abs(bootstrap_difference) >= AB_difference:\n",
    "        count += 1\n",
    "# p-value равно доле превышений значений\n",
    "pvalueBS = count / bootstrap_samples\n",
    "pvalueBS"
   ]
  },
  {
   "cell_type": "code",
   "execution_count": 60,
   "id": "a9933bde",
   "metadata": {},
   "outputs": [
    {
     "name": "stdout",
     "output_type": "stream",
     "text": [
      "Не получилось отвергнуть нулевую гипотезу: скорее всего, средний чек не увеличился\n"
     ]
    }
   ],
   "source": [
    "# Если случаев, когда bootstrap_difference >= AB_difference действительно много, мы понимаем, что с большой вероятностью,\n",
    "# разность объясняется свойствами выборки, а не действительным ростом среднего чека\n",
    "if pvalueBS > alpha:\n",
    "    print(\"Не получилось отвергнуть нулевую гипотезу: скорее всего, средний чек не увеличился\")\n",
    "else:\n",
    "    print(\"Отвергаем нулевую гипотезу: скорее всего, средний чек увеличился\")"
   ]
  },
  {
   "cell_type": "markdown",
   "id": "3c146a1f",
   "metadata": {},
   "source": [
    "Хотелось отметить, что с помощью техники Bootstrap (фактически - метод Монте-Карло), мы получили абсолютно такое же значение P-value без специальных знаний."
   ]
  }
 ],
 "metadata": {
  "kernelspec": {
   "display_name": "Python 3 (ipykernel)",
   "language": "python",
   "name": "python3"
  },
  "language_info": {
   "codemirror_mode": {
    "name": "ipython",
    "version": 3
   },
   "file_extension": ".py",
   "mimetype": "text/x-python",
   "name": "python",
   "nbconvert_exporter": "python",
   "pygments_lexer": "ipython3",
   "version": "3.9.13"
  },
  "toc": {
   "base_numbering": 1,
   "nav_menu": {},
   "number_sections": true,
   "sideBar": true,
   "skip_h1_title": true,
   "title_cell": "Table of Contents",
   "title_sidebar": "Contents",
   "toc_cell": false,
   "toc_position": {},
   "toc_section_display": true,
   "toc_window_display": false
  }
 },
 "nbformat": 4,
 "nbformat_minor": 5
}
